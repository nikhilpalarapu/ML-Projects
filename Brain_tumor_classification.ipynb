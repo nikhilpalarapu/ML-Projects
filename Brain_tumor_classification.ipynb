{
  "nbformat": 4,
  "nbformat_minor": 0,
  "metadata": {
    "colab": {
      "provenance": [],
      "authorship_tag": "ABX9TyNVeHfFHv+7m0w0W0n6/472",
      "include_colab_link": true
    },
    "kernelspec": {
      "name": "python3",
      "display_name": "Python 3"
    },
    "language_info": {
      "name": "python"
    }
  },
  "cells": [
    {
      "cell_type": "markdown",
      "metadata": {
        "id": "view-in-github",
        "colab_type": "text"
      },
      "source": [
        "<a href=\"https://colab.research.google.com/github/nikhilpalarapu/ML-Projects/blob/main/Brain_tumor_classification.ipynb\" target=\"_parent\"><img src=\"https://colab.research.google.com/assets/colab-badge.svg\" alt=\"Open In Colab\"/></a>"
      ]
    },
    {
      "cell_type": "code",
      "execution_count": null,
      "metadata": {
        "id": "bHwirTWCpS9b"
      },
      "outputs": [],
      "source": [
        "import tensorflow as tf\n",
        "from tensorflow.keras.preprocessing.image import ImageDataGenerator\n",
        "from tensorflow.keras.applications import ResNet50\n",
        "from tensorflow.keras.models import Sequential\n",
        "from tensorflow.keras.layers import Dense, Flatten, Dropout\n",
        "import tensorflow as tf\n",
        "from tensorflow import keras\n",
        "from tensorflow.keras import layers\n",
        "from tensorflow.keras.callbacks import ModelCheckpoint\n",
        "from sklearn.metrics import confusion_matrix, roc_curve, auc\n",
        "import matplotlib.pyplot as plt"
      ]
    },
    {
      "cell_type": "code",
      "source": [
        "# Define the ablation parameters\n",
        "resnet50_weights = 'imagenet'\n",
        "max_conv_layers = 8\n",
        "validation_split = 0.2"
      ],
      "metadata": {
        "id": "0v_3VKnApYvw"
      },
      "execution_count": null,
      "outputs": []
    },
    {
      "cell_type": "code",
      "source": [
        "# Load the images from local storage\n",
        "train_ds,val_ds = tf.keras.preprocessing.image_dataset_from_directory(\n",
        "    '/kaggle/input/brain-tumors-dataset/Data',\n",
        "    validation_split=0.2,\n",
        "    subset='both',\n",
        "    seed=123,\n",
        "    labels='inferred',\n",
        "    label_mode='binary',\n",
        "    color_mode='rgb',\n",
        "    batch_size=32,\n",
        "    image_size=(224, 224)\n",
        ")"
      ],
      "metadata": {
        "id": "98nFPrdhphDV"
      },
      "execution_count": null,
      "outputs": []
    },
    {
      "cell_type": "code",
      "source": [
        "# Define the model architecture\n",
        "model = Sequential()"
      ],
      "metadata": {
        "id": "3EwFu4v3pkQ0"
      },
      "execution_count": null,
      "outputs": []
    },
    {
      "cell_type": "code",
      "source": [
        "# Add VGG16 as a feature extractor\n",
        "resnet50 = ResNet50(weights=resnet50_weights, include_top=False, input_shape=(224, 224, 3))\n",
        "model.add(resnet50)"
      ],
      "metadata": {
        "id": "vHu0dw5ppm4M"
      },
      "execution_count": null,
      "outputs": []
    },
    {
      "cell_type": "code",
      "source": [
        "# Add a few more convolution layers if needed\n",
        "for i in range(max_conv_layers - len(resnet50.layers)):\n",
        "    model.add(tf.keras.layers.Conv2D(32, (3, 3), activation='relu'))"
      ],
      "metadata": {
        "id": "5-7QGR5dppVR"
      },
      "execution_count": null,
      "outputs": []
    },
    {
      "cell_type": "code",
      "source": [
        "# Add a flatten layer\n",
        "model.add(Flatten())"
      ],
      "metadata": {
        "id": "2d74_l6dpsDN"
      },
      "execution_count": null,
      "outputs": []
    },
    {
      "cell_type": "code",
      "source": [
        "# Add a dropout layer\n",
        "model.add(Dropout(0.2))"
      ],
      "metadata": {
        "id": "yw9ZWRYNpt4_"
      },
      "execution_count": null,
      "outputs": []
    },
    {
      "cell_type": "code",
      "source": [
        "# Add a fully connected layer\n",
        "model.add(Dense(128, activation='relu'))"
      ],
      "metadata": {
        "id": "lS2HLyjgpvvz"
      },
      "execution_count": null,
      "outputs": []
    },
    {
      "cell_type": "code",
      "source": [
        "# Add a dropout layer\n",
        "model.add(Dropout(0.2))"
      ],
      "metadata": {
        "id": "MVdYZhzypxiR"
      },
      "execution_count": null,
      "outputs": []
    },
    {
      "cell_type": "code",
      "source": [
        "# Add an output layer\n",
        "model.add(Dense(1, activation='sigmoid'))"
      ],
      "metadata": {
        "id": "84T6R_TLpzL1"
      },
      "execution_count": null,
      "outputs": []
    },
    {
      "cell_type": "code",
      "source": [
        "# Compile the model\n",
        "model.compile(loss='binary_crossentropy', optimizer='adam', metrics=['accuracy'])"
      ],
      "metadata": {
        "id": "DjT4NGRZp1CU"
      },
      "execution_count": null,
      "outputs": []
    },
    {
      "cell_type": "code",
      "source": [
        "# Train the model\n",
        "history=model.fit(train_ds, epochs=3, validation_data=val_ds)"
      ],
      "metadata": {
        "id": "Uj44xCBpp4I-"
      },
      "execution_count": null,
      "outputs": []
    },
    {
      "cell_type": "code",
      "source": [
        "# Evaluate the model on the validation set\n",
        "loss, accuracy = model.evaluate(val_ds)"
      ],
      "metadata": {
        "id": "pgrl6Fqmp55n"
      },
      "execution_count": null,
      "outputs": []
    },
    {
      "cell_type": "code",
      "source": [
        "print('Validation loss:', loss)\n",
        "print('Validation accuracy:', accuracy)"
      ],
      "metadata": {
        "id": "QspgOvzip71m"
      },
      "execution_count": null,
      "outputs": []
    },
    {
      "cell_type": "code",
      "source": [
        "plt.figure(figsize=(12, 5))\n",
        "plt.subplot(1, 2, 1)\n",
        "plt.plot(history.history['loss'], label='Training Loss')\n",
        "plt.plot(history.history['val_loss'], label='Validation Loss')\n",
        "plt.xlabel('Epoch')\n",
        "plt.ylabel('Loss')\n",
        "plt.title('Loss vs. Epoch')\n",
        "plt.legend()"
      ],
      "metadata": {
        "id": "iWDHzoFip9zr"
      },
      "execution_count": null,
      "outputs": []
    },
    {
      "cell_type": "code",
      "source": [
        "plt.subplot(1, 2, 2)\n",
        "plt.plot(history.history['accuracy'], label='Training Accuracy')\n",
        "plt.plot(history.history['val_accuracy'], label='Validation Accuracy')\n",
        "plt.xlabel('Epoch')\n",
        "plt.ylabel('Accuracy')\n",
        "plt.title('Accuracy vs. Epoch')\n",
        "plt.legend()\n",
        "plt.show()"
      ],
      "metadata": {
        "id": "ES3AV7jyp_k4"
      },
      "execution_count": null,
      "outputs": []
    },
    {
      "cell_type": "code",
      "source": [
        "# Generate ROC and Confusion Matrix\n",
        "from sklearn.metrics import confusion_matrix, roc_curve, auc\n",
        "import numpy as np\n",
        "\n",
        "def plot_roc_curve(fpr, tpr, auc):\n",
        "    plt.figure()\n",
        "    plt.plot(fpr, tpr, color='darkorange', lw=2, label='ROC curve (area = {:.2f})'.format(auc))\n",
        "    plt.plot([0, 1], [0, 1], color='navy', lw=2, linestyle='--')\n",
        "    plt.xlim([0.0, 1.0])\n",
        "    plt.ylim([0.0, 1.05])\n",
        "    plt.xlabel('False Positive Rate')\n",
        "    plt.ylabel('True Positive Rate')\n",
        "    plt.title('Receiver Operating Characteristic')\n",
        "    plt.legend(loc='lower right')\n",
        "    plt.show()"
      ],
      "metadata": {
        "id": "d8USpZtFqCEP"
      },
      "execution_count": null,
      "outputs": []
    },
    {
      "cell_type": "code",
      "source": [
        "# Get true labels and predicted probabilities\n",
        "true_labels = np.concatenate([y for x, y in val_ds], axis=0)\n",
        "predicted_probs = model.predict(val_ds)"
      ],
      "metadata": {
        "id": "vKISTkPQqENG"
      },
      "execution_count": null,
      "outputs": []
    },
    {
      "cell_type": "code",
      "source": [
        "# Calculate ROC\n",
        "fpr, tpr, _ = roc_curve(true_labels, predicted_probs)\n",
        "roc_auc = auc(fpr, tpr)\n",
        "plot_roc_curve(fpr, tpr, roc_auc)"
      ],
      "metadata": {
        "id": "FsrohhN8qGXO"
      },
      "execution_count": null,
      "outputs": []
    },
    {
      "cell_type": "code",
      "source": [
        "# Calculate Confusion Matrix\n",
        "predicted_labels = (predicted_probs > 0.5).astype(np.int32)\n",
        "conf_matrix = confusion_matrix(true_labels, predicted_labels)\n",
        "print('Confusion Matrix:')\n",
        "print(conf_matrix)"
      ],
      "metadata": {
        "id": "gAZT-CogqIOe"
      },
      "execution_count": null,
      "outputs": []
    }
  ]
}